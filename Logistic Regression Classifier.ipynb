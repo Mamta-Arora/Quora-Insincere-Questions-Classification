{
 "cells": [
  {
   "cell_type": "code",
   "execution_count": 1,
   "metadata": {},
   "outputs": [],
   "source": [
    "import pandas as pd\n",
    "import numpy as np\n",
    "from sklearn.linear_model import LogisticRegression\n",
    "from sklearn.feature_extraction.text import CountVectorizer, TfidfVectorizer\n",
    "from tqdm import tqdm\n",
    "import re, string\n",
    "from nltk.stem import PorterStemmer"
   ]
  },
  {
   "cell_type": "code",
   "execution_count": 2,
   "metadata": {
    "scrolled": true
   },
   "outputs": [],
   "source": [
    "train = pd.read_csv('train.csv')"
   ]
  },
  {
   "cell_type": "code",
   "execution_count": 3,
   "metadata": {},
   "outputs": [
    {
     "data": {
      "text/html": [
       "<div>\n",
       "<style scoped>\n",
       "    .dataframe tbody tr th:only-of-type {\n",
       "        vertical-align: middle;\n",
       "    }\n",
       "\n",
       "    .dataframe tbody tr th {\n",
       "        vertical-align: top;\n",
       "    }\n",
       "\n",
       "    .dataframe thead th {\n",
       "        text-align: right;\n",
       "    }\n",
       "</style>\n",
       "<table border=\"1\" class=\"dataframe\">\n",
       "  <thead>\n",
       "    <tr style=\"text-align: right;\">\n",
       "      <th></th>\n",
       "      <th>qid</th>\n",
       "      <th>question_text</th>\n",
       "      <th>target</th>\n",
       "    </tr>\n",
       "  </thead>\n",
       "  <tbody>\n",
       "    <tr>\n",
       "      <th>844150</th>\n",
       "      <td>a56de6e0ae64511bdbf3</td>\n",
       "      <td>I told my daughter not to dye her hair, but sh...</td>\n",
       "      <td>0</td>\n",
       "    </tr>\n",
       "    <tr>\n",
       "      <th>276996</th>\n",
       "      <td>36341b11c3b1a57f56fc</td>\n",
       "      <td>How can you count the values of an array in PHP?</td>\n",
       "      <td>0</td>\n",
       "    </tr>\n",
       "    <tr>\n",
       "      <th>119963</th>\n",
       "      <td>177d148141bc3f28c390</td>\n",
       "      <td>How would you describe the personality of the ...</td>\n",
       "      <td>0</td>\n",
       "    </tr>\n",
       "    <tr>\n",
       "      <th>464687</th>\n",
       "      <td>5afe3a144a2612fe2cf0</td>\n",
       "      <td>Does Dendula surname belongs to Brahmins?</td>\n",
       "      <td>0</td>\n",
       "    </tr>\n",
       "    <tr>\n",
       "      <th>226279</th>\n",
       "      <td>2c3ebc52dc1fccd29ec5</td>\n",
       "      <td>What should a bill of sale look like?</td>\n",
       "      <td>0</td>\n",
       "    </tr>\n",
       "  </tbody>\n",
       "</table>\n",
       "</div>"
      ],
      "text/plain": [
       "                         qid  \\\n",
       "844150  a56de6e0ae64511bdbf3   \n",
       "276996  36341b11c3b1a57f56fc   \n",
       "119963  177d148141bc3f28c390   \n",
       "464687  5afe3a144a2612fe2cf0   \n",
       "226279  2c3ebc52dc1fccd29ec5   \n",
       "\n",
       "                                            question_text  target  \n",
       "844150  I told my daughter not to dye her hair, but sh...       0  \n",
       "276996   How can you count the values of an array in PHP?       0  \n",
       "119963  How would you describe the personality of the ...       0  \n",
       "464687          Does Dendula surname belongs to Brahmins?       0  \n",
       "226279              What should a bill of sale look like?       0  "
      ]
     },
     "execution_count": 3,
     "metadata": {},
     "output_type": "execute_result"
    }
   ],
   "source": [
    "# Choose 10% data as validation data\n",
    "validation = train.sample(frac=0.1, replace=False, weights=None, random_state=None, axis=None)\n",
    "validation.head()"
   ]
  },
  {
   "cell_type": "code",
   "execution_count": 4,
   "metadata": {},
   "outputs": [
    {
     "data": {
      "text/html": [
       "<div>\n",
       "<style scoped>\n",
       "    .dataframe tbody tr th:only-of-type {\n",
       "        vertical-align: middle;\n",
       "    }\n",
       "\n",
       "    .dataframe tbody tr th {\n",
       "        vertical-align: top;\n",
       "    }\n",
       "\n",
       "    .dataframe thead th {\n",
       "        text-align: right;\n",
       "    }\n",
       "</style>\n",
       "<table border=\"1\" class=\"dataframe\">\n",
       "  <thead>\n",
       "    <tr style=\"text-align: right;\">\n",
       "      <th></th>\n",
       "      <th>qid</th>\n",
       "      <th>question_text</th>\n",
       "      <th>target</th>\n",
       "    </tr>\n",
       "  </thead>\n",
       "  <tbody>\n",
       "    <tr>\n",
       "      <th>0</th>\n",
       "      <td>00002165364db923c7e6</td>\n",
       "      <td>How did Quebec nationalists see their province...</td>\n",
       "      <td>0</td>\n",
       "    </tr>\n",
       "    <tr>\n",
       "      <th>1</th>\n",
       "      <td>000032939017120e6e44</td>\n",
       "      <td>Do you have an adopted dog, how would you enco...</td>\n",
       "      <td>0</td>\n",
       "    </tr>\n",
       "    <tr>\n",
       "      <th>2</th>\n",
       "      <td>0000412ca6e4628ce2cf</td>\n",
       "      <td>Why does velocity affect time? Does velocity a...</td>\n",
       "      <td>0</td>\n",
       "    </tr>\n",
       "    <tr>\n",
       "      <th>3</th>\n",
       "      <td>000042bf85aa498cd78e</td>\n",
       "      <td>How did Otto von Guericke used the Magdeburg h...</td>\n",
       "      <td>0</td>\n",
       "    </tr>\n",
       "    <tr>\n",
       "      <th>4</th>\n",
       "      <td>0000455dfa3e01eae3af</td>\n",
       "      <td>Can I convert montra helicon D to a mountain b...</td>\n",
       "      <td>0</td>\n",
       "    </tr>\n",
       "  </tbody>\n",
       "</table>\n",
       "</div>"
      ],
      "text/plain": [
       "                    qid                                      question_text  \\\n",
       "0  00002165364db923c7e6  How did Quebec nationalists see their province...   \n",
       "1  000032939017120e6e44  Do you have an adopted dog, how would you enco...   \n",
       "2  0000412ca6e4628ce2cf  Why does velocity affect time? Does velocity a...   \n",
       "3  000042bf85aa498cd78e  How did Otto von Guericke used the Magdeburg h...   \n",
       "4  0000455dfa3e01eae3af  Can I convert montra helicon D to a mountain b...   \n",
       "\n",
       "   target  \n",
       "0       0  \n",
       "1       0  \n",
       "2       0  \n",
       "3       0  \n",
       "4       0  "
      ]
     },
     "execution_count": 4,
     "metadata": {},
     "output_type": "execute_result"
    }
   ],
   "source": [
    "train = train[~train.index.isin(validation.index)]\n",
    "train.head()"
   ]
  },
  {
   "cell_type": "code",
   "execution_count": 5,
   "metadata": {},
   "outputs": [],
   "source": [
    "# cleaning insignificant symbols\n",
    "re_tok = re.compile(f'([{string.punctuation}“”¨«»®´·º½¾¿¡§£₤‘’\"\"])')"
   ]
  },
  {
   "cell_type": "code",
   "execution_count": 6,
   "metadata": {},
   "outputs": [],
   "source": [
    "# Tokenize function without stemming\n",
    "def tokenize_nonstem(s): \n",
    "    s= re.sub('[^a-zA-Z0-9]',\" \",s)\n",
    "    tokens=re_tok.sub(r' \\1',s).split()\n",
    "    return tokens"
   ]
  },
  {
   "cell_type": "code",
   "execution_count": 7,
   "metadata": {},
   "outputs": [],
   "source": [
    "# Tokenize function with stemming\n",
    "def tokenize_stem(s): \n",
    "    s= re.sub('[^a-zA-Z0-9]',\" \",s)\n",
    "    tokens=re_tok.sub(r' \\1',s).split()\n",
    "    for i in range(len(tokens)):\n",
    "        tokens[i]=PorterStemmer().stem(tokens[i])\n",
    "    return tokens"
   ]
  },
  {
   "cell_type": "code",
   "execution_count": 8,
   "metadata": {},
   "outputs": [],
   "source": [
    "n = train.shape[0]\n",
    "vec = TfidfVectorizer(ngram_range=(1,2), tokenizer=tokenize_nonstem,\n",
    "                     min_df=3, max_df=0.9, strip_accents='unicode',\n",
    "                     use_idf=1, smooth_idf=1, sublinear_tf=1)"
   ]
  },
  {
   "cell_type": "code",
   "execution_count": 9,
   "metadata": {},
   "outputs": [],
   "source": [
    "# Calculate TF-IDF weight\n",
    "trn_term_doc = vec.fit_transform(train['question_text'])\n",
    "val_term_doc = vec.transform(validation['question_text'])"
   ]
  },
  {
   "cell_type": "code",
   "execution_count": 10,
   "metadata": {
    "scrolled": true
   },
   "outputs": [],
   "source": [
    "x = trn_term_doc\n",
    "x_val = val_term_doc"
   ]
  },
  {
   "cell_type": "code",
   "execution_count": 11,
   "metadata": {},
   "outputs": [],
   "source": [
    "# Generate a Logistic Regression model\n",
    "def get_model(y):\n",
    "    y = y.values\n",
    "    m = LogisticRegression(C=4, dual=False,solver='liblinear')    \n",
    "    return m.fit(x, y)"
   ]
  },
  {
   "cell_type": "code",
   "execution_count": 12,
   "metadata": {},
   "outputs": [],
   "source": [
    "preds = np.zeros((len(validation), 1))\n",
    "labels_cols=['target']"
   ]
  },
  {
   "cell_type": "code",
   "execution_count": 13,
   "metadata": {},
   "outputs": [],
   "source": [
    "# for i, j in enumerate(labels_cols):\n",
    "#     print('fit', j)\n",
    "m= get_model(train['target'])\n",
    "preds = m.predict_proba(x_val)[:,1]"
   ]
  },
  {
   "cell_type": "code",
   "execution_count": 14,
   "metadata": {},
   "outputs": [],
   "source": [
    "for i in range(len(preds)):\n",
    "    if preds[i] > 0.5:\n",
    "        preds[i]=1\n",
    "    else:\n",
    "        preds[i]=0"
   ]
  },
  {
   "cell_type": "code",
   "execution_count": 15,
   "metadata": {
    "scrolled": true
   },
   "outputs": [
    {
     "data": {
      "text/plain": [
       "0.955825974174598"
      ]
     },
     "execution_count": 15,
     "metadata": {},
     "output_type": "execute_result"
    }
   ],
   "source": [
    "# Calculate precision\n",
    "val=validation['target'].values\n",
    "val.reshape(preds.shape)\n",
    "temp=0\n",
    "for i in range(len(val)):\n",
    "    if preds[i]==val[i]:\n",
    "        temp+=1\n",
    "precision = temp/len(val)\n",
    "precision"
   ]
  },
  {
   "cell_type": "code",
   "execution_count": 16,
   "metadata": {},
   "outputs": [
    {
     "data": {
      "text/plain": [
       "0.577063550036523"
      ]
     },
     "execution_count": 16,
     "metadata": {},
     "output_type": "execute_result"
    }
   ],
   "source": [
    "# Calculate F1 score\n",
    "b=np.sum(preds)\n",
    "a = np.sum(val)\n",
    "c=0\n",
    "for i in range(len(val)):\n",
    "    if preds[i]==1 and val[i]==1:\n",
    "        c+=1\n",
    "precision = c / b\n",
    "recall = c / a\n",
    "f1_score = 2 * precision * recall / (precision + recall)\n",
    "f1_score"
   ]
  },
  {
   "cell_type": "code",
   "execution_count": 17,
   "metadata": {},
   "outputs": [],
   "source": [
    "n = train.shape[0]\n",
    "vec = TfidfVectorizer(ngram_range=(1,2), tokenizer=tokenize_stem,\n",
    "                     min_df=3, max_df=0.9, strip_accents='unicode',\n",
    "                     use_idf=1, smooth_idf=1, sublinear_tf=1)"
   ]
  },
  {
   "cell_type": "code",
   "execution_count": 18,
   "metadata": {},
   "outputs": [],
   "source": [
    "trn_term_doc = vec.fit_transform(train['question_text'])\n",
    "val_term_doc = vec.transform(validation['question_text'])"
   ]
  },
  {
   "cell_type": "code",
   "execution_count": 19,
   "metadata": {},
   "outputs": [],
   "source": [
    "x = trn_term_doc\n",
    "x_val = val_term_doc"
   ]
  },
  {
   "cell_type": "code",
   "execution_count": 20,
   "metadata": {},
   "outputs": [],
   "source": [
    "preds = np.zeros((len(validation), 1))\n",
    "labels_cols=['target']\n",
    "m= get_model(train['target'])\n",
    "preds = m.predict_proba(x_val)[:,1]"
   ]
  },
  {
   "cell_type": "code",
   "execution_count": 21,
   "metadata": {},
   "outputs": [],
   "source": [
    "for i in range(len(preds)):\n",
    "    if preds[i] > 0.5:\n",
    "        preds[i]=1\n",
    "    else:\n",
    "        preds[i]=0"
   ]
  },
  {
   "cell_type": "code",
   "execution_count": 22,
   "metadata": {},
   "outputs": [
    {
     "data": {
      "text/plain": [
       "0.955988098189933"
      ]
     },
     "execution_count": 22,
     "metadata": {},
     "output_type": "execute_result"
    }
   ],
   "source": [
    "# Calculate precision\n",
    "val=validation['target'].values\n",
    "val.reshape(preds.shape)\n",
    "temp=0\n",
    "for i in range(len(val)):\n",
    "#     print(preds[i],val[i])\n",
    "    if preds[i]==val[i]:\n",
    "        temp+=1\n",
    "precision = temp/len(val)\n",
    "precision"
   ]
  },
  {
   "cell_type": "code",
   "execution_count": 23,
   "metadata": {},
   "outputs": [
    {
     "data": {
      "text/plain": [
       "0.5785772988768149"
      ]
     },
     "execution_count": 23,
     "metadata": {},
     "output_type": "execute_result"
    }
   ],
   "source": [
    "# Calculate F1 score\n",
    "b=np.sum(preds)\n",
    "a = np.sum(val)\n",
    "c=0\n",
    "for i in range(len(val)):\n",
    "    if preds[i]==1 and val[i]==1:\n",
    "        c+=1\n",
    "precision = c / b\n",
    "recall = c / a\n",
    "f1_score = 2 * precision * recall / (precision + recall)\n",
    "f1_score"
   ]
  },
  {
   "cell_type": "code",
   "execution_count": null,
   "metadata": {},
   "outputs": [],
   "source": []
  }
 ],
 "metadata": {
  "kernelspec": {
   "display_name": "Python 3",
   "language": "python",
   "name": "python3"
  },
  "language_info": {
   "codemirror_mode": {
    "name": "ipython",
    "version": 3
   },
   "file_extension": ".py",
   "mimetype": "text/x-python",
   "name": "python",
   "nbconvert_exporter": "python",
   "pygments_lexer": "ipython3",
   "version": "3.6.8"
  }
 },
 "nbformat": 4,
 "nbformat_minor": 2
}
