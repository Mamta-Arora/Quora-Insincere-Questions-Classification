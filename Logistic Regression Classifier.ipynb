{
 "cells": [
  {
   "cell_type": "code",
   "execution_count": 221,
   "metadata": {},
   "outputs": [],
   "source": [
    "import pandas as pd\n",
    "import numpy as np\n",
    "from sklearn.linear_model import LogisticRegression\n",
    "from sklearn.feature_extraction.text import CountVectorizer, TfidfVectorizer\n",
    "from tqdm import tqdm\n",
    "import re, string\n",
    "from nltk.stem import PorterStemmer\n",
    "from sklearn.metrics import roc_curve, auc\n",
    "import matplotlib.pyplot as plt"
   ]
  },
  {
   "cell_type": "code",
   "execution_count": 222,
   "metadata": {
    "scrolled": true
   },
   "outputs": [],
   "source": [
    "train = pd.read_csv('train.csv')"
   ]
  },
  {
   "cell_type": "code",
   "execution_count": 223,
   "metadata": {},
   "outputs": [
    {
     "data": {
      "text/html": [
       "<div>\n",
       "<style scoped>\n",
       "    .dataframe tbody tr th:only-of-type {\n",
       "        vertical-align: middle;\n",
       "    }\n",
       "\n",
       "    .dataframe tbody tr th {\n",
       "        vertical-align: top;\n",
       "    }\n",
       "\n",
       "    .dataframe thead th {\n",
       "        text-align: right;\n",
       "    }\n",
       "</style>\n",
       "<table border=\"1\" class=\"dataframe\">\n",
       "  <thead>\n",
       "    <tr style=\"text-align: right;\">\n",
       "      <th></th>\n",
       "      <th>qid</th>\n",
       "      <th>question_text</th>\n",
       "      <th>target</th>\n",
       "    </tr>\n",
       "  </thead>\n",
       "  <tbody>\n",
       "    <tr>\n",
       "      <th>945895</th>\n",
       "      <td>b95ba08f7f24df892610</td>\n",
       "      <td>What is the best way to find the best interest inside me?</td>\n",
       "      <td>0</td>\n",
       "    </tr>\n",
       "    <tr>\n",
       "      <th>699884</th>\n",
       "      <td>89086c08eb6395c91e83</td>\n",
       "      <td>It can be possible one day, what if there is one medicine for one disease in one body?</td>\n",
       "      <td>0</td>\n",
       "    </tr>\n",
       "    <tr>\n",
       "      <th>731124</th>\n",
       "      <td>8f2dc455b35051cb7339</td>\n",
       "      <td>Which is the best organisation to buy B2C mailing lists?</td>\n",
       "      <td>0</td>\n",
       "    </tr>\n",
       "    <tr>\n",
       "      <th>282007</th>\n",
       "      <td>3733b55308bed431f399</td>\n",
       "      <td>What am I called if I worship nature, not nature deity's but just nature itself?</td>\n",
       "      <td>0</td>\n",
       "    </tr>\n",
       "    <tr>\n",
       "      <th>748819</th>\n",
       "      <td>92b3ebcba53c2d8cefdc</td>\n",
       "      <td>What proof is there that North Korea has Nukes?</td>\n",
       "      <td>0</td>\n",
       "    </tr>\n",
       "  </tbody>\n",
       "</table>\n",
       "</div>"
      ],
      "text/plain": [
       "                         qid                                                                           question_text  target\n",
       "945895  b95ba08f7f24df892610                               What is the best way to find the best interest inside me?       0\n",
       "699884  89086c08eb6395c91e83  It can be possible one day, what if there is one medicine for one disease in one body?       0\n",
       "731124  8f2dc455b35051cb7339                                Which is the best organisation to buy B2C mailing lists?       0\n",
       "282007  3733b55308bed431f399        What am I called if I worship nature, not nature deity's but just nature itself?       0\n",
       "748819  92b3ebcba53c2d8cefdc                                         What proof is there that North Korea has Nukes?       0"
      ]
     },
     "execution_count": 223,
     "metadata": {},
     "output_type": "execute_result"
    }
   ],
   "source": [
    "# Choose 10% data as validation data\n",
    "validation = train.sample(frac=0.1, replace=False, weights=None, random_state=None, axis=None)\n",
    "validation.head()"
   ]
  },
  {
   "cell_type": "code",
   "execution_count": 224,
   "metadata": {},
   "outputs": [
    {
     "data": {
      "text/html": [
       "<div>\n",
       "<style scoped>\n",
       "    .dataframe tbody tr th:only-of-type {\n",
       "        vertical-align: middle;\n",
       "    }\n",
       "\n",
       "    .dataframe tbody tr th {\n",
       "        vertical-align: top;\n",
       "    }\n",
       "\n",
       "    .dataframe thead th {\n",
       "        text-align: right;\n",
       "    }\n",
       "</style>\n",
       "<table border=\"1\" class=\"dataframe\">\n",
       "  <thead>\n",
       "    <tr style=\"text-align: right;\">\n",
       "      <th></th>\n",
       "      <th>qid</th>\n",
       "      <th>question_text</th>\n",
       "      <th>target</th>\n",
       "    </tr>\n",
       "  </thead>\n",
       "  <tbody>\n",
       "    <tr>\n",
       "      <th>0</th>\n",
       "      <td>00002165364db923c7e6</td>\n",
       "      <td>How did Quebec nationalists see their province as a nation in the 1960s?</td>\n",
       "      <td>0</td>\n",
       "    </tr>\n",
       "    <tr>\n",
       "      <th>1</th>\n",
       "      <td>000032939017120e6e44</td>\n",
       "      <td>Do you have an adopted dog, how would you encourage people to adopt and not shop?</td>\n",
       "      <td>0</td>\n",
       "    </tr>\n",
       "    <tr>\n",
       "      <th>2</th>\n",
       "      <td>0000412ca6e4628ce2cf</td>\n",
       "      <td>Why does velocity affect time? Does velocity affect space geometry?</td>\n",
       "      <td>0</td>\n",
       "    </tr>\n",
       "    <tr>\n",
       "      <th>3</th>\n",
       "      <td>000042bf85aa498cd78e</td>\n",
       "      <td>How did Otto von Guericke used the Magdeburg hemispheres?</td>\n",
       "      <td>0</td>\n",
       "    </tr>\n",
       "    <tr>\n",
       "      <th>6</th>\n",
       "      <td>00005059a06ee19e11ad</td>\n",
       "      <td>Why does Quora automatically ban conservative opinions when reported, but does not do the same for liberal views?</td>\n",
       "      <td>0</td>\n",
       "    </tr>\n",
       "  </tbody>\n",
       "</table>\n",
       "</div>"
      ],
      "text/plain": [
       "                    qid                                                                                                      question_text  target\n",
       "0  00002165364db923c7e6                                           How did Quebec nationalists see their province as a nation in the 1960s?       0\n",
       "1  000032939017120e6e44                                  Do you have an adopted dog, how would you encourage people to adopt and not shop?       0\n",
       "2  0000412ca6e4628ce2cf                                                Why does velocity affect time? Does velocity affect space geometry?       0\n",
       "3  000042bf85aa498cd78e                                                          How did Otto von Guericke used the Magdeburg hemispheres?       0\n",
       "6  00005059a06ee19e11ad  Why does Quora automatically ban conservative opinions when reported, but does not do the same for liberal views?       0"
      ]
     },
     "execution_count": 224,
     "metadata": {},
     "output_type": "execute_result"
    }
   ],
   "source": [
    "train = train[~train.index.isin(validation.index)]\n",
    "train.head()"
   ]
  },
  {
   "cell_type": "code",
   "execution_count": 225,
   "metadata": {},
   "outputs": [],
   "source": [
    "# cleaning insignificant symbols\n",
    "re_tok = re.compile(f'([{string.punctuation}“”¨«»®´·º½¾¿¡§£₤‘’\"\"])')"
   ]
  },
  {
   "cell_type": "code",
   "execution_count": 226,
   "metadata": {},
   "outputs": [],
   "source": [
    "# Tokenize function\n",
    "def tokenize(s): \n",
    "    s= re.sub('[^a-zA-Z0-9]',\" \",s)\n",
    "    tokens=re_tok.sub(r' \\1',s).split()\n",
    "    return tokens"
   ]
  },
  {
   "cell_type": "code",
   "execution_count": 227,
   "metadata": {},
   "outputs": [],
   "source": [
    "n = train.shape[0]\n",
    "vec = TfidfVectorizer(ngram_range=(1,2), tokenizer=tokenize_nonstem,\n",
    "                     min_df=3, max_df=0.9, strip_accents='unicode',\n",
    "                     use_idf=1, smooth_idf=1, sublinear_tf=1)"
   ]
  },
  {
   "cell_type": "code",
   "execution_count": 228,
   "metadata": {},
   "outputs": [],
   "source": [
    "# Calculate TF-IDF weight\n",
    "trn_term_doc = vec.fit_transform(train['question_text'])\n",
    "val_term_doc = vec.transform(validation['question_text'])"
   ]
  },
  {
   "cell_type": "code",
   "execution_count": 229,
   "metadata": {
    "scrolled": true
   },
   "outputs": [],
   "source": [
    "x = trn_term_doc\n",
    "x_val = val_term_doc"
   ]
  },
  {
   "cell_type": "code",
   "execution_count": 230,
   "metadata": {},
   "outputs": [],
   "source": [
    "# Generate a Logistic Regression model\n",
    "def get_model(y):\n",
    "    y = y.values\n",
    "    m = LogisticRegression(C=4, dual=False,solver='liblinear')    \n",
    "    return m.fit(x, y)"
   ]
  },
  {
   "cell_type": "code",
   "execution_count": 237,
   "metadata": {},
   "outputs": [],
   "source": [
    "preds = np.zeros((len(validation), 1))\n",
    "labels_cols=['target']"
   ]
  },
  {
   "cell_type": "code",
   "execution_count": 238,
   "metadata": {},
   "outputs": [],
   "source": [
    "# for i, j in enumerate(labels_cols):\n",
    "#     print('fit', j)\n",
    "m= get_model(train['target'])\n",
    "preds = m.predict_proba(x_val)[:,1]"
   ]
  },
  {
   "cell_type": "code",
   "execution_count": 259,
   "metadata": {},
   "outputs": [
    {
     "data": {
      "text/plain": [
       "0.9566489275184126"
      ]
     },
     "execution_count": 259,
     "metadata": {},
     "output_type": "execute_result"
    }
   ],
   "source": [
    "y_true = validation['target'].values\n",
    "y_score = preds\n",
    "fpr, tpr, thresholds=roc_curve(y_true,y_score)\n",
    "roc_auc =auc(fpr, tpr) \n",
    "roc_auc"
   ]
  },
  {
   "cell_type": "code",
   "execution_count": 240,
   "metadata": {},
   "outputs": [
    {
     "data": {
      "image/png": "[encoded data removed]",
      "text/plain": [
       "<Figure size 576x360 with 1 Axes>"
      ]
     },
     "metadata": {},
     "output_type": "display_data"
    }
   ],
   "source": [
    "lw = 2\n",
    "plt.figure(figsize=(8, 5))\n",
    "plt.plot(fpr, tpr, color='darkorange',\n",
    "         lw=lw, label='ROC curve (area = %0.2f)' % roc_auc)  ###假正率为横坐标，真正率为纵坐标做曲线\n",
    "plt.plot([0, 1], [0, 1], color='navy', lw=lw, linestyle='--')\n",
    "plt.xlim([0.0, 1.0])\n",
    "plt.ylim([0.0, 1.0])\n",
    "plt.xlabel('False Positive Rate')\n",
    "plt.ylabel('True Positive Rate')\n",
    "plt.title('Receiver operating characteristic example')\n",
    "plt.legend(loc=\"lower right\")\n",
    "plt.show()"
   ]
  },
  {
   "cell_type": "code",
   "execution_count": 241,
   "metadata": {},
   "outputs": [],
   "source": [
    "result = np.zeros((len(validation), 1))"
   ]
  },
  {
   "cell_type": "code",
   "execution_count": 290,
   "metadata": {},
   "outputs": [],
   "source": [
    "for i in range(len(preds)):\n",
    "    if preds[i] > 0.47:\n",
    "        result[i]=1\n",
    "    else:\n",
    "        result[i]=0"
   ]
  },
  {
   "cell_type": "code",
   "execution_count": 291,
   "metadata": {
    "scrolled": false
   },
   "outputs": [
    {
     "data": {
      "text/plain": [
       "0.9553014553014553"
      ]
     },
     "execution_count": 291,
     "metadata": {},
     "output_type": "execute_result"
    }
   ],
   "source": [
    "# Calculate precision\n",
    "val=validation['target'].values\n",
    "val.reshape(preds.shape)\n",
    "temp=0\n",
    "for i in range(len(val)):\n",
    "    if result[i]==val[i]:\n",
    "        temp+=1\n",
    "precision = temp/len(val)\n",
    "precision"
   ]
  },
  {
   "cell_type": "code",
   "execution_count": 324,
   "metadata": {},
   "outputs": [],
   "source": [
    "result_2 = np.zeros((len(validation), 1))"
   ]
  },
  {
   "cell_type": "code",
   "execution_count": 325,
   "metadata": {},
   "outputs": [
    {
     "data": {
      "text/plain": [
       "0.6330189358485132"
      ]
     },
     "execution_count": 325,
     "metadata": {},
     "output_type": "execute_result"
    }
   ],
   "source": [
    "\n",
    "for i in range(len(preds)):\n",
    "    if preds[i] > 0.25:\n",
    "        result_2[i]=1\n",
    "    else:\n",
    "        result_2[i]=0\n",
    "# Calculate F1 score\n",
    "b=np.sum(result_2)\n",
    "a = np.sum(val)\n",
    "c=0\n",
    "for i in range(len(val)):\n",
    "    if result_2[i]==1 and val[i]==1:\n",
    "        c+=1\n",
    "precision = c / b\n",
    "recall = c / a\n",
    "f1_score = 2 * precision * recall / (precision + recall)\n",
    "f1_score"
   ]
  },
  {
   "cell_type": "code",
   "execution_count": null,
   "metadata": {},
   "outputs": [],
   "source": []
  }
 ],
 "metadata": {
  "kernelspec": {
   "display_name": "Python 3",
   "language": "python",
   "name": "python3"
  },
  "language_info": {
   "codemirror_mode": {
    "name": "ipython",
    "version": 3
   },
   "file_extension": ".py",
   "mimetype": "text/x-python",
   "name": "python",
   "nbconvert_exporter": "python",
   "pygments_lexer": "ipython3",
   "version": "3.6.8"
  }
 },
 "nbformat": 4,
 "nbformat_minor": 2
}
